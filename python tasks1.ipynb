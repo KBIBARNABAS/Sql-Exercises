{
 "cells": [
  {
   "cell_type": "code",
   "execution_count": 6,
   "id": "5a9674e4",
   "metadata": {},
   "outputs": [
    {
     "name": "stdout",
     "output_type": "stream",
     "text": [
      "Enter any string:barnabas\n"
     ]
    },
    {
     "ename": "TypeError",
     "evalue": "'int' object is not callable",
     "output_type": "error",
     "traceback": [
      "\u001b[0;31m---------------------------------------------------------------------------\u001b[0m",
      "\u001b[0;31mTypeError\u001b[0m                                 Traceback (most recent call last)",
      "Input \u001b[0;32mIn [6]\u001b[0m, in \u001b[0;36m<cell line: 7>\u001b[0;34m()\u001b[0m\n\u001b[1;32m      5\u001b[0m d\u001b[38;5;241m=\u001b[39m{}\n\u001b[1;32m      6\u001b[0m stlength \u001b[38;5;241m=\u001b[39m \u001b[38;5;241m0\u001b[39m\n\u001b[0;32m----> 7\u001b[0m \u001b[38;5;28;01mwhile\u001b[39;00m j \u001b[38;5;241m<\u001b[39m \u001b[38;5;28;43mlen\u001b[39;49m\u001b[43m(\u001b[49m\u001b[43ms\u001b[49m\u001b[43m)\u001b[49m:\n\u001b[1;32m      8\u001b[0m     \u001b[38;5;28;01mif\u001b[39;00m s[j] \u001b[38;5;129;01mnot\u001b[39;00m \u001b[38;5;129;01min\u001b[39;00m d \u001b[38;5;129;01mor\u001b[39;00m i\u001b[38;5;241m>\u001b[39md[s[j]]:\n\u001b[1;32m      9\u001b[0m             stlength \u001b[38;5;241m=\u001b[39m \u001b[38;5;28mmax\u001b[39m(stlength,(j\u001b[38;5;241m-\u001b[39mi\u001b[38;5;241m+\u001b[39m\u001b[38;5;241m1\u001b[39m))\n",
      "\u001b[0;31mTypeError\u001b[0m: 'int' object is not callable"
     ]
    }
   ],
   "source": [
    "# find longest substring without repeating characters\n",
    "s=str(input('Enter any string:'))\n",
    "i=0\n",
    "j=0\n",
    "d={}\n",
    "stlength = 0\n",
    "while j < len(s):\n",
    "    if s[j] not in d or i>d[s[j]]:\n",
    "            stlength = max(stlength,(j-i+1))\n",
    "            d[s[j]] = j\n",
    "    else:\n",
    "        i = d[s[j]]+1\n",
    "        ans = max(stlength,(j-i+1))\n",
    "        j-=1\n",
    "         \n",
    "    j+=1\n",
    "print('The length of the substring is: ' + str(stlength) )\n",
    "lgst = ''.join(d)\n",
    "print('The substring is:'+  lgst )\n",
    "\n",
    "\n",
    "    \n",
    "         "
   ]
  },
  {
   "cell_type": "code",
   "execution_count": 1,
   "id": "447f37e2",
   "metadata": {},
   "outputs": [
    {
     "name": "stdout",
     "output_type": "stream",
     "text": [
      "Enter your string:barnabas\n",
      "The longest substring without repeating characters is  4\n"
     ]
    }
   ],
   "source": [
    "def unique(s, a, b):\n",
    "   \n",
    "    seen = [0]*(26)\n",
    " \n",
    "    for c in range(a, b + 1):\n",
    "        if (seen[ord(s[c]) -\n",
    "                   ord('a')] == True):\n",
    "            return False\n",
    "             \n",
    "        seen[ord(s[c]) -\n",
    "                ord('a')] = True\n",
    " \n",
    "    return True\n",
    " \n",
    "def longestSubstr(s):\n",
    "     \n",
    "    n = len(s)\n",
    "     \n",
    "    res = 0\n",
    "     \n",
    "    for i in range(n):\n",
    "        for j in range(i, n):\n",
    "            if (unique(s, i, j)):\n",
    "                res = max(res, j - i + 1)\n",
    "                 \n",
    "    return res\n",
    " \n",
    "if __name__ == '__main__':\n",
    "     \n",
    "    s = str(input('Enter your string:'))\n",
    "     \n",
    "    len = longestSubstr(s)\n",
    "    print(\"The longest substring without repeating characters is \", len)"
   ]
  },
  {
   "cell_type": "code",
   "execution_count": null,
   "id": "945fc582",
   "metadata": {},
   "outputs": [],
   "source": []
  },
  {
   "cell_type": "code",
   "execution_count": 45,
   "id": "e5e9ca4e",
   "metadata": {},
   "outputs": [
    {
     "name": "stdout",
     "output_type": "stream",
     "text": [
      "Enter number of values:5\n",
      "Your input:5\n",
      "['((((()))))', '(((()())))', '(((())()))', '(((()))())', '(((())))()', '((()(())))', '((()()()))', '((()())())', '((()()))()', '((())(()))', '((())()())', '((())())()', '((()))(())', '((()))()()', '(()((())))', '(()(()()))', '(()(())())', '(()(()))()', '(()()(()))', '(()()()())', '(()()())()', '(()())(())', '(()())()()', '(())((()))', '(())(()())', '(())(())()', '(())()(())', '(())()()()', '()(((())))', '()((()()))', '()((())())', '()((()))()', '()(()(()))', '()(()()())', '()(()())()', '()(())(())', '()(())()()', '()()((()))', '()()(()())', '()()(())()', '()()()(())', '()()()()()']\n"
     ]
    }
   ],
   "source": [
    "# printing paranthesis\n",
    "\n",
    "class Solution(object):\n",
    "   def generateParenthesis(self, n):\n",
    "      \"\"\"\n",
    "      :type n: int\n",
    "      :rtype: List[str]\n",
    "      \"\"\"\n",
    "      result = []\n",
    "      self.generateParenthesisUtil(n,n,\"\",result)\n",
    "      return result\n",
    "   def generateParenthesisUtil(self, left,right,temp,result):\n",
    "      if left == 0 and right == 0:\n",
    "         result.append(temp)\n",
    "         return\n",
    "      if left>0:\n",
    "         self.generateParenthesisUtil(left-1,right,temp+'(',result)\n",
    "      if right > left:\n",
    "         self.generateParenthesisUtil(left, right-1, temp + ')', result)\n",
    "ob = Solution()\n",
    "x=int(input('Enter number of values:'))\n",
    "x\n",
    "print('Your input:' + str(x) )\n",
    "print(ob.generateParenthesis(x))\n"
   ]
  },
  {
   "cell_type": "code",
   "execution_count": 4,
   "id": "a1b74767",
   "metadata": {},
   "outputs": [
    {
     "name": "stdout",
     "output_type": "stream",
     "text": [
      "b b c \n",
      "bb c \n"
     ]
    }
   ],
   "source": [
    "def checkPalindrome(string): \n",
    "\n",
    "    # Returns true if str is palindrome,\n",
    "    # else false \n",
    "    length = len(string) \n",
    "    length -= 1\n",
    "    for i in range(length): \n",
    "        if string[i] != string[length]: \n",
    "            return False\n",
    "        length -= 1\n",
    "    return True\n",
    "\n",
    "def printSolution(partitions): \n",
    "    for i in range(len(partitions)): \n",
    "        for j in range(len(partitions[i])): \n",
    "            print(partitions[i][j], end = \" \") \n",
    "        print() \n",
    "\n",
    "def addStrings(v, s, temp, index): \n",
    "\n",
    "    # Goes through all indexes and\n",
    "    # recursively add remaining partitions\n",
    "    # if current string is palindrome. \n",
    "    length = len(s) \n",
    "    string = \"\" \n",
    "\n",
    "    current = temp[:] \n",
    "\n",
    "    if index == 0: \n",
    "        temp = [] \n",
    "    for i in range(index, length): \n",
    "        string += s[i] \n",
    "        if checkPalindrome(string): \n",
    "            temp.append(string) \n",
    "            if i + 1 < length: \n",
    "                addStrings(v, s, temp[:], i + 1) \n",
    "            else: \n",
    "                v.append(temp) \n",
    "            temp = current \n",
    "\n",
    "def partition(s, v): \n",
    "\n",
    "    # Generates all palindromic partitions\n",
    "    # of 's' and stores the result in 'v'. \n",
    "    temp = [] \n",
    "    addStrings(v, s, temp[:], 0) \n",
    "    printSolution(v) \n",
    "\n",
    "# Driver Code \n",
    "\n",
    "if __name__ == \"__main__\": \n",
    "    s = \"bbc\"\n",
    "    partitions = [] \n",
    "    partition(s, partitions)"
   ]
  },
  {
   "cell_type": "code",
   "execution_count": null,
   "id": "22130a66",
   "metadata": {},
   "outputs": [],
   "source": []
  }
 ],
 "metadata": {
  "kernelspec": {
   "display_name": "Python 3 (ipykernel)",
   "language": "python",
   "name": "python3"
  },
  "language_info": {
   "codemirror_mode": {
    "name": "ipython",
    "version": 3
   },
   "file_extension": ".py",
   "mimetype": "text/x-python",
   "name": "python",
   "nbconvert_exporter": "python",
   "pygments_lexer": "ipython3",
   "version": "3.9.12"
  }
 },
 "nbformat": 4,
 "nbformat_minor": 5
}
