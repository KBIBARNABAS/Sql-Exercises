{
 "cells": [
  {
   "cell_type": "code",
   "execution_count": 31,
   "id": "5a9674e4",
   "metadata": {},
   "outputs": [
    {
     "name": "stdout",
     "output_type": "stream",
     "text": [
      "Enter any string:barnabas\n",
      "The length of the substring is: 4\n",
      "The substring is:barns\n"
     ]
    }
   ],
   "source": [
    "# find longest substring without repeating characters\n",
    "s=str(input('Enter any string:'))\n",
    "i=0\n",
    "j=0\n",
    "d={}\n",
    "stlength = 0\n",
    "while j < len(s):\n",
    "    if s[j] not in d or i>d[s[j]]:\n",
    "            stlength = max(stlength,(j-i+1))\n",
    "            d[s[j]] = j\n",
    "    else:\n",
    "        i = d[s[j]]+1\n",
    "        ans = max(stlength,(j-i+1))\n",
    "        j-=1\n",
    "         \n",
    "    j+=1\n",
    "print('The length of the substring is: ' + str(stlength) )\n",
    "lgst = ''.join(d)\n",
    "print('The substring is:'+  lgst )\n",
    "\n",
    "    \n",
    "         "
   ]
  },
  {
   "cell_type": "code",
   "execution_count": 45,
   "id": "e5e9ca4e",
   "metadata": {},
   "outputs": [
    {
     "name": "stdout",
     "output_type": "stream",
     "text": [
      "Enter number of values:5\n",
      "Your input:5\n",
      "['((((()))))', '(((()())))', '(((())()))', '(((()))())', '(((())))()', '((()(())))', '((()()()))', '((()())())', '((()()))()', '((())(()))', '((())()())', '((())())()', '((()))(())', '((()))()()', '(()((())))', '(()(()()))', '(()(())())', '(()(()))()', '(()()(()))', '(()()()())', '(()()())()', '(()())(())', '(()())()()', '(())((()))', '(())(()())', '(())(())()', '(())()(())', '(())()()()', '()(((())))', '()((()()))', '()((())())', '()((()))()', '()(()(()))', '()(()()())', '()(()())()', '()(())(())', '()(())()()', '()()((()))', '()()(()())', '()()(())()', '()()()(())', '()()()()()']\n"
     ]
    }
   ],
   "source": [
    "# printing paranthesis\n",
    "\n",
    "class Solution(object):\n",
    "   def generateParenthesis(self, n):\n",
    "      \"\"\"\n",
    "      :type n: int\n",
    "      :rtype: List[str]\n",
    "      \"\"\"\n",
    "      result = []\n",
    "      self.generateParenthesisUtil(n,n,\"\",result)\n",
    "      return result\n",
    "   def generateParenthesisUtil(self, left,right,temp,result):\n",
    "      if left == 0 and right == 0:\n",
    "         result.append(temp)\n",
    "         return\n",
    "      if left>0:\n",
    "         self.generateParenthesisUtil(left-1,right,temp+'(',result)\n",
    "      if right > left:\n",
    "         self.generateParenthesisUtil(left, right-1, temp + ')', result)\n",
    "ob = Solution()\n",
    "x=int(input('Enter number of values:'))\n",
    "x\n",
    "print('Your input:' + str(x) )\n",
    "print(ob.generateParenthesis(x))\n"
   ]
  },
  {
   "cell_type": "code",
   "execution_count": null,
   "id": "a1b74767",
   "metadata": {},
   "outputs": [],
   "source": []
  }
 ],
 "metadata": {
  "kernelspec": {
   "display_name": "Python 3 (ipykernel)",
   "language": "python",
   "name": "python3"
  },
  "language_info": {
   "codemirror_mode": {
    "name": "ipython",
    "version": 3
   },
   "file_extension": ".py",
   "mimetype": "text/x-python",
   "name": "python",
   "nbconvert_exporter": "python",
   "pygments_lexer": "ipython3",
   "version": "3.9.12"
  }
 },
 "nbformat": 4,
 "nbformat_minor": 5
}
