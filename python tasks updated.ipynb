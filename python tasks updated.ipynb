{
 "cells": [
  {
   "cell_type": "code",
   "execution_count": 2,
   "id": "5a9674e4",
   "metadata": {},
   "outputs": [
    {
     "name": "stdout",
     "output_type": "stream",
     "text": [
      "8\n",
      "9\n",
      "5\n"
     ]
    }
   ],
   "source": [
    "# find longest substring without repeating characters\n",
    "def count_str(l):\n",
    "\n",
    "    n = len(l)\n",
    " \n",
    "    res = 0\n",
    "    for i in range(n):\n",
    "        for j in range(i, n):\n",
    "            if (i, j):\n",
    "                res = max(res, j - i + 1)\n",
    "    return res\n",
    "\n",
    "a = 'barnabas'\n",
    "b = \"kasangaki\"\n",
    "c = \"isoke\"\n",
    "print(count_str(a))\n",
    "print(count_str(b))\n",
    "print(count_str(c))"
   ]
  },
  {
   "cell_type": "code",
   "execution_count": 45,
   "id": "e5e9ca4e",
   "metadata": {},
   "outputs": [
    {
     "name": "stdout",
     "output_type": "stream",
     "text": [
      "Enter number of values:5\n",
      "Your input:5\n",
      "['((((()))))', '(((()())))', '(((())()))', '(((()))())', '(((())))()', '((()(())))', '((()()()))', '((()())())', '((()()))()', '((())(()))', '((())()())', '((())())()', '((()))(())', '((()))()()', '(()((())))', '(()(()()))', '(()(())())', '(()(()))()', '(()()(()))', '(()()()())', '(()()())()', '(()())(())', '(()())()()', '(())((()))', '(())(()())', '(())(())()', '(())()(())', '(())()()()', '()(((())))', '()((()()))', '()((())())', '()((()))()', '()(()(()))', '()(()()())', '()(()())()', '()(())(())', '()(())()()', '()()((()))', '()()(()())', '()()(())()', '()()()(())', '()()()()()']\n"
     ]
    }
   ],
   "source": [
    "# printing paranthesis\n",
    "\n",
    "class Solution(object):\n",
    "   def generateParenthesis(self, n):\n",
    "      \"\"\"\n",
    "      :type n: int\n",
    "      :rtype: List[str]\n",
    "      \"\"\"\n",
    "      result = []\n",
    "      self.generateParenthesisUtil(n,n,\"\",result)\n",
    "      return result\n",
    "   def generateParenthesisUtil(self, left,right,temp,result):\n",
    "      if left == 0 and right == 0:\n",
    "         result.append(temp)\n",
    "         return\n",
    "      if left>0:\n",
    "         self.generateParenthesisUtil(left-1,right,temp+'(',result)\n",
    "      if right > left:\n",
    "         self.generateParenthesisUtil(left, right-1, temp + ')', result)\n",
    "ob = Solution()\n",
    "x=int(input('Enter number of values:'))\n",
    "x\n",
    "print('Your input:' + str(x) )\n",
    "print(ob.generateParenthesis(x))\n"
   ]
  },
  {
   "cell_type": "code",
   "execution_count": 4,
   "id": "a1b74767",
   "metadata": {},
   "outputs": [
    {
     "name": "stdout",
     "output_type": "stream",
     "text": [
      "b b c \n",
      "bb c \n"
     ]
    }
   ],
   "source": [
    "def checkPalindrome(string): \n",
    "\n",
    "    # Returns true if str is palindrome,\n",
    "    # else false \n",
    "    length = len(string) \n",
    "    length -= 1\n",
    "    for i in range(length): \n",
    "        if string[i] != string[length]: \n",
    "            return False\n",
    "        length -= 1\n",
    "    return True\n",
    "\n",
    "def printSolution(partitions): \n",
    "    for i in range(len(partitions)): \n",
    "        for j in range(len(partitions[i])): \n",
    "            print(partitions[i][j], end = \" \") \n",
    "        print() \n",
    "\n",
    "def addStrings(v, s, temp, index): \n",
    "\n",
    "    # Goes through all indexes and\n",
    "    # recursively add remaining partitions\n",
    "    # if current string is palindrome. \n",
    "    length = len(s) \n",
    "    string = \"\" \n",
    "\n",
    "    current = temp[:] \n",
    "\n",
    "    if index == 0: \n",
    "        temp = [] \n",
    "    for i in range(index, length): \n",
    "        string += s[i] \n",
    "        if checkPalindrome(string): \n",
    "            temp.append(string) \n",
    "            if i + 1 < length: \n",
    "                addStrings(v, s, temp[:], i + 1) \n",
    "            else: \n",
    "                v.append(temp) \n",
    "            temp = current \n",
    "\n",
    "def partition(s, v): \n",
    "\n",
    "    # Generates all palindromic partitions\n",
    "    # of 's' and stores the result in 'v'. \n",
    "    temp = [] \n",
    "    addStrings(v, s, temp[:], 0) \n",
    "    printSolution(v) \n",
    "\n",
    "# Driver Code \n",
    "\n",
    "if __name__ == \"__main__\": \n",
    "    s = \"bbc\"\n",
    "    partitions = [] \n",
    "    partition(s, partitions)"
   ]
  },
  {
   "cell_type": "code",
   "execution_count": null,
   "id": "22130a66",
   "metadata": {},
   "outputs": [],
   "source": []
  }
 ],
 "metadata": {
  "kernelspec": {
   "display_name": "Python 3 (ipykernel)",
   "language": "python",
   "name": "python3"
  },
  "language_info": {
   "codemirror_mode": {
    "name": "ipython",
    "version": 3
   },
   "file_extension": ".py",
   "mimetype": "text/x-python",
   "name": "python",
   "nbconvert_exporter": "python",
   "pygments_lexer": "ipython3",
   "version": "3.9.12"
  }
 },
 "nbformat": 4,
 "nbformat_minor": 5
}
